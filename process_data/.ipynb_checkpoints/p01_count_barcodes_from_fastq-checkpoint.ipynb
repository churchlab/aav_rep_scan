{
 "cells": [
  {
   "cell_type": "markdown",
   "id": "2500596c",
   "metadata": {},
   "source": [
    "Note: You will have to download the FASTQ files from SRA and place them in /process_data/fastq_files/ for this code to function. If you wish to start with processed data, you can skip to /analysis/a01_calculate_selection_values."
   ]
  },
  {
   "cell_type": "code",
   "execution_count": 17,
   "id": "b5f2ca53",
   "metadata": {},
   "outputs": [],
   "source": [
    "import Bio\n",
    "from Bio.SeqRecord import SeqRecord\n",
    "from Bio import SeqIO\n",
    "import os \n",
    "import re\n",
    "import glob\n",
    "import sys\n",
    "import scipy\n",
    "import numpy as np \n",
    "import pandas as pd\n",
    "import bz2\n",
    "import csv\n",
    "import time\n",
    "import pydna\n",
    "import math\n",
    "import gzip\n",
    "import openpyxl"
   ]
  },
  {
   "cell_type": "code",
   "execution_count": 78,
   "id": "d73f4442",
   "metadata": {},
   "outputs": [],
   "source": [
    "fastq_directory = '/rescue/25gb/home/ubuntu/repos/aav2_rep_scan/mounted_drive1/20230216_fastq_for_sra/' # update this!\n",
    "counts_directory = '../analysis/barcode_counts/'"
   ]
  },
  {
   "cell_type": "code",
   "execution_count": 69,
   "id": "bc575571",
   "metadata": {},
   "outputs": [],
   "source": [
    "# Create a dictionary with conditions as keys and corresponding GENIDs as values\n",
    "condition_to_gen = {'rep7868_plasmid': ['GEN00225383','GEN00225384','GEN00225385','GEN00225386'],\n",
    "                 'rep7868_aav2_virus_transa': ['GEN00224103','GEN00224104','GEN00224105','GEN00224106'],\n",
    "                 'rep7868_aav2_virus_transb': ['GEN00224107','GEN00224108','GEN00224109','GEN00224110'],\n",
    "                 'rep7868_aav5_virus_transa': ['GEN00232081','GEN00232082','GEN00232083','GEN00232084',\n",
    "                                               'GEN00232085','GEN00232086','GEN00232087','GEN00232088'],\n",
    "                 'rep7868_aav5_virus_transb': ['GEN00232089','GEN00232090','GEN00232091','GEN00232092',\n",
    "                                               'GEN00232093','GEN00232094','GEN00232095','GEN00232096'],\n",
    "                 'rep7868_aav9_virus_transa': ['GEN00232097','GEN00232098','GEN00232099','GEN00232100',\n",
    "                                               'GEN00232101','GEN00232102','GEN00232103','GEN00232104'],\n",
    "                 'rep7868_aav9_virus_transb': ['GEN00232105','GEN00232106','GEN00232107','GEN00232108',\n",
    "                                               'GEN00232109','GEN00232110','GEN00232111','GEN00232112'],\n",
    "                 'wtaav2_virus_transa': ['GEN00232129','GEN00232130','GEN00232131','GEN00232132',\n",
    "                                         'GEN00232133','GEN00232134','GEN00232135','GEN00232136'],\n",
    "                 'wtaav2_virus_transb': ['GEN00232137','GEN00232138','GEN00232139','GEN00232140',\n",
    "                                         'GEN00232141','GEN00232142','GEN00232143','GEN00232144'],\n",
    "                 'wtaav2_plasmid': ['GEN00230655','GEN00230656','GEN00230657','GEN00230658']}"
   ]
  },
  {
   "cell_type": "code",
   "execution_count": 12,
   "id": "61a1c36e",
   "metadata": {},
   "outputs": [],
   "source": [
    "def tabulate(key, counts):\n",
    "    # add 1 to count for this key, or add it to the dictionary\n",
    "    if key in counts:\n",
    "        counts[key] += 1\n",
    "    else:\n",
    "        counts[key] = 1"
   ]
  },
  {
   "cell_type": "code",
   "execution_count": 13,
   "id": "1d4d1097",
   "metadata": {},
   "outputs": [],
   "source": [
    "# write the dictionaries to csv files in counts folder\n",
    "def write_counts(barcounts_dict, file_dir, filename):\n",
    "    with open(os.path.join(file_dir, filename), 'w') as csv_file:\n",
    "        writer = csv.writer(csv_file, dialect = 'excel')\n",
    "        for key, value in barcounts_dict.items():\n",
    "            writer.writerow([key, value])"
   ]
  },
  {
   "cell_type": "code",
   "execution_count": 85,
   "id": "45f25b7c",
   "metadata": {},
   "outputs": [],
   "source": [
    "# Given a condition, count barcodes in the correspoding FASTQ files stored in count_dir\n",
    "# conditions are: rep7868_plasmid, wtaav2_plasmid, rep7868_aav2_virus_transa, rep7868_aav2_virus_transb,\n",
    "# rep7868_aav5_virus_transa, rep7868_aav5_virus_transb, rep7868_aav9_virus_transa, rep7868_aav9_virus_transb,\n",
    "# wtaav2_virus_transa, and wtaav2_virus_transb\n",
    "def count_barcodes(condition, output_path = '../analysis/barcode_counts/', count_dir_name = counts_directory):\n",
    "    \n",
    "    data_in_wc = os.path.join(fastq_directory, '*L001*R1*')\n",
    "    individual_gen_ids_list = glob.glob(data_in_wc)\n",
    "#     print (individual_gen_ids_list)\n",
    "\n",
    "    count_dict = {}\n",
    "    num_reads = 0\n",
    "    num_barcodes = 0\n",
    "    for idx, r1_l1_file in enumerate(individual_gen_ids_list):\n",
    "#         if idx > 0 : break\n",
    "        gen_id = r1_l1_file.split('_')[7]\n",
    "        if gen_id not in condition_to_gen[condition]:\n",
    "            continue\n",
    "        print (gen_id)\n",
    "        for lane in ['L001', 'L002', 'L003', 'L004']:\n",
    "            full_file_read_sub = re.sub(\"L001\", lane, r1_l1_file)\n",
    "#             print (full_file_read_sub)\n",
    "            with gzip.open(full_file_read_sub, \"rt\") as gz_file:\n",
    "#                 print (gz_file)\n",
    "                for read_idx, read in enumerate(SeqIO.parse(gz_file, 'fastq')):\n",
    "#                     if read_idx > 10:\n",
    "#                         break\n",
    "#                     print (read.seq)\n",
    "                    if 'R1' in full_file_read_sub:\n",
    "                        seq = read.seq.reverse_complement()\n",
    "                    else:\n",
    "                        seq = read\n",
    "    #                     print (seq)\n",
    "                    regex = '(?<=CGTAGGA)([ACTG]{20})(?=GTGTGGC)'\n",
    "                    matches = re.findall(regex, str(seq))\n",
    "                    for match in matches:\n",
    "                        num_barcodes += 1\n",
    "                        tabulate(match, count_dict)\n",
    "#                         print ('---')\n",
    "#                         print (match)\n",
    "#                         print ('---')\n",
    "                    num_reads += 1\n",
    "        write_counts(count_dict, count_dir_name, \"{condition}.csv\".format(condition=condition))"
   ]
  },
  {
   "cell_type": "code",
   "execution_count": 86,
   "id": "aff3a2b5",
   "metadata": {},
   "outputs": [
    {
     "name": "stdout",
     "output_type": "stream",
     "text": [
      "GEN00230656\n",
      "GEN00230655\n",
      "GEN00230658\n",
      "GEN00230657\n"
     ]
    }
   ],
   "source": [
    "# Example: count barcodes for wtaav2 plasmid library samples\n",
    "count_barcodes('wtaav2_plasmid')"
   ]
  }
 ],
 "metadata": {
  "kernelspec": {
   "display_name": "Python 3 (ipykernel)",
   "language": "python",
   "name": "python3"
  },
  "language_info": {
   "codemirror_mode": {
    "name": "ipython",
    "version": 3
   },
   "file_extension": ".py",
   "mimetype": "text/x-python",
   "name": "python",
   "nbconvert_exporter": "python",
   "pygments_lexer": "ipython3",
   "version": "3.10.6"
  }
 },
 "nbformat": 4,
 "nbformat_minor": 5
}
